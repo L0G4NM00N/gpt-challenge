{
 "cells": [
  {
   "cell_type": "code",
   "execution_count": 3,
   "metadata": {},
   "outputs": [],
   "source": [
    "from langchain.chat_models import ChatOpenAI\n",
    "from langchain.prompts import ChatPromptTemplate\n",
    "from langchain.callbacks import StreamingStdOutCallbackHandler\n",
    "\n",
    "chat = ChatOpenAI(\n",
    "    temperature=0.1,\n",
    "    streaming=True,\n",
    "    callbacks=[\n",
    "        StreamingStdOutCallbackHandler(),\n",
    "    ],\n",
    ")"
   ]
  },
  {
   "cell_type": "code",
   "execution_count": 4,
   "metadata": {},
   "outputs": [],
   "source": [
    "poet_prompt = ChatPromptTemplate.from_messages(\n",
    "    [\n",
    "        (\n",
    "            \"system\",\n",
    "            \"You are a poet with a background as a programmer. You should be able to express the advantages and disadvantages of specific programming languages through poetry. If you are unfamiliar with a specific programming language, you should respond by saying you don't know.\",\n",
    "        ),\n",
    "        (\"human\", \"{programmingLanguage}\"),\n",
    "    ]\n",
    ")\n",
    "\n",
    "poet_chain = poet_prompt | chat"
   ]
  },
  {
   "cell_type": "code",
   "execution_count": 5,
   "metadata": {},
   "outputs": [],
   "source": [
    "critic_prompt = ChatPromptTemplate.from_messages(\n",
    "    [\n",
    "        (\n",
    "            \"system\",\n",
    "            \"You are a literary critic, and your role is to interpret poetry and explain it in a way that is easy for the public to understand. If you can't explain it, say that you don't know.\",\n",
    "        ),\n",
    "        (\"human\", \"{poet}\"),\n",
    "    ]\n",
    ")\n",
    "\n",
    "\n",
    "critic_chain = critic_prompt | chat"
   ]
  },
  {
   "cell_type": "code",
   "execution_count": 6,
   "metadata": {},
   "outputs": [
    {
     "name": "stdout",
     "output_type": "stream",
     "text": [
      "In the land of Python, where code is clean,\n",
      "Indentation matters, it's part of the scene.\n",
      "With libraries galore, it's a powerful tool,\n",
      "For data science, web apps, it's oh so cool.\n",
      "\n",
      "But some may find, its speed is slow,\n",
      "For high-performance tasks, it may not glow.\n",
      "And with dynamic typing, errors may hide,\n",
      "Until runtime reveals them, along for the ride.\n",
      "\n",
      "So Python shines, in many a way,\n",
      "But for certain tasks, it may not sway.\n",
      "Choose it wisely, for your coding spree,\n",
      "Python's strengths and weaknesses, for all to see.This poem explores the characteristics of the programming language Python in a creative and engaging way. The poet highlights the clean and structured nature of Python code, emphasizing the importance of proper indentation. Python's versatility is celebrated through its abundance of libraries that make it a powerful tool for various applications like data science and web development.\n",
      "\n",
      "However, the poem also acknowledges some drawbacks of Python, such as its slower speed for high-performance tasks and the potential for errors to go unnoticed until runtime. Despite these limitations, the poet recognizes Python's strengths and suggests that it is important to choose the language wisely based on the specific requirements of a coding project.\n",
      "\n",
      "Overall, the poem serves as a whimsical reflection on the pros and cons of using Python for programming, presenting a balanced view of its capabilities and limitations."
     ]
    },
    {
     "data": {
      "text/plain": [
       "AIMessageChunk(content=\"This poem explores the characteristics of the programming language Python in a creative and engaging way. The poet highlights the clean and structured nature of Python code, emphasizing the importance of proper indentation. Python's versatility is celebrated through its abundance of libraries that make it a powerful tool for various applications like data science and web development.\\n\\nHowever, the poem also acknowledges some drawbacks of Python, such as its slower speed for high-performance tasks and the potential for errors to go unnoticed until runtime. Despite these limitations, the poet recognizes Python's strengths and suggests that it is important to choose the language wisely based on the specific requirements of a coding project.\\n\\nOverall, the poem serves as a whimsical reflection on the pros and cons of using Python for programming, presenting a balanced view of its capabilities and limitations.\")"
      ]
     },
     "execution_count": 6,
     "metadata": {},
     "output_type": "execute_result"
    }
   ],
   "source": [
    "final_chain = {\"poet\": poet_chain} | critic_chain\n",
    "final_chain.invoke({\"programmingLanguage\": \"python\"})"
   ]
  }
 ],
 "metadata": {
  "kernelspec": {
   "display_name": "env",
   "language": "python",
   "name": "python3"
  },
  "language_info": {
   "codemirror_mode": {
    "name": "ipython",
    "version": 3
   },
   "file_extension": ".py",
   "mimetype": "text/x-python",
   "name": "python",
   "nbconvert_exporter": "python",
   "pygments_lexer": "ipython3",
   "version": "3.11.11"
  }
 },
 "nbformat": 4,
 "nbformat_minor": 2
}
