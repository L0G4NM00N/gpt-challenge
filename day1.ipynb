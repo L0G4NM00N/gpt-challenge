{
 "cells": [
  {
   "cell_type": "code",
   "execution_count": 9,
   "metadata": {},
   "outputs": [],
   "source": [
    "from langchain.chat_models import ChatOpenAI\n",
    "from langchain.prompts import ChatPromptTemplate\n",
    "from langchain.callbacks import StreamingStdOutCallbackHandler\n",
    "\n",
    "chat = ChatOpenAI(\n",
    "    temperature=0.1,\n",
    "    streaming=True,\n",
    "    callbacks=[\n",
    "        StreamingStdOutCallbackHandler(),\n",
    "    ],\n",
    ")"
   ]
  },
  {
   "cell_type": "code",
   "execution_count": 10,
   "metadata": {},
   "outputs": [],
   "source": [
    "poet_prompt = ChatPromptTemplate.from_messages(\n",
    "    [\n",
    "        (\n",
    "            \"system\",\n",
    "            \"You are a poet with a background as a programmer. You should be able to express the advantages and disadvantages of specific programming languages through poetry. If you are unfamiliar with a specific programming language, you should respond by saying you don't know.\",\n",
    "        ),\n",
    "        (\"human\", \"{programmingLanguage}\"),\n",
    "    ]\n",
    ")\n",
    "\n",
    "poet_chain = poet_prompt | chat"
   ]
  },
  {
   "cell_type": "code",
   "execution_count": 5,
   "metadata": {},
   "outputs": [],
   "source": [
    "critic_prompt = ChatPromptTemplate.from_messages(\n",
    "    [\n",
    "        (\n",
    "            \"system\",\n",
    "            \"You are a literary critic, and your role is to interpret poetry and explain it in a way that is easy for the public to understand. If you can't explain it, say that you don't know.\",\n",
    "        ),\n",
    "        (\"human\", \"{poet}\"),\n",
    "    ]\n",
    ")\n",
    "\n",
    "\n",
    "critic_chain = critic_prompt | chat"
   ]
  },
  {
   "cell_type": "code",
   "execution_count": 11,
   "metadata": {},
   "outputs": [
    {
     "name": "stdout",
     "output_type": "stream",
     "text": [
      "In the land of Python, where readability reigns,\n",
      "Code flows like prose, freeing minds from chains.\n",
      "With libraries galore, tasks become light,\n",
      "Yet performance may wane in the heat of the fight.\n",
      "\n",
      "Dynamic typing, a double-edged sword,\n",
      "Flexibility gained, but bugs may afford.\n",
      "Indentation's demand, a strict guiding hand,\n",
      "Forgetting a space, errors will stand.\n",
      "\n",
      "So Python shines in its simplicity,\n",
      "But for speed-critical tasks, it may lack felicity.This poem seems to be a reflection on the programming language Python, using poetic language to describe its characteristics and trade-offs. The poet praises Python for its readability, likening the flow of code to prose that liberates the mind. They highlight the abundance of libraries that make tasks easier, but also mention that performance might suffer in certain situations.\n",
      "\n",
      "The poem touches on the concept of dynamic typing in Python, which allows for flexibility but can also lead to bugs. It emphasizes the importance of proper indentation in Python, as even a small error like forgetting a space can cause issues in the code.\n",
      "\n",
      "Overall, the poet seems to appreciate Python for its simplicity and ease of use, but acknowledges that it may not be the best choice for tasks that require high speed or performance."
     ]
    },
    {
     "data": {
      "text/plain": [
       "AIMessageChunk(content='This poem seems to be a reflection on the programming language Python, using poetic language to describe its characteristics and trade-offs. The poet praises Python for its readability, likening the flow of code to prose that liberates the mind. They highlight the abundance of libraries that make tasks easier, but also mention that performance might suffer in certain situations.\\n\\nThe poem touches on the concept of dynamic typing in Python, which allows for flexibility but can also lead to bugs. It emphasizes the importance of proper indentation in Python, as even a small error like forgetting a space can cause issues in the code.\\n\\nOverall, the poet seems to appreciate Python for its simplicity and ease of use, but acknowledges that it may not be the best choice for tasks that require high speed or performance.')"
      ]
     },
     "execution_count": 11,
     "metadata": {},
     "output_type": "execute_result"
    }
   ],
   "source": [
    "final_chain = {\"poet\": poet_chain} | critic_chain\n",
    "final_chain.invoke({\"programmingLanguage\": \"python\"})"
   ]
  }
 ],
 "metadata": {
  "kernelspec": {
   "display_name": "env",
   "language": "python",
   "name": "python3"
  },
  "language_info": {
   "codemirror_mode": {
    "name": "ipython",
    "version": 3
   },
   "file_extension": ".py",
   "mimetype": "text/x-python",
   "name": "python",
   "nbconvert_exporter": "python",
   "pygments_lexer": "ipython3",
   "version": "3.11.11"
  }
 },
 "nbformat": 4,
 "nbformat_minor": 2
}
