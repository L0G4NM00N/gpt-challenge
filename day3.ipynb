{
 "cells": [
  {
   "cell_type": "code",
   "execution_count": 111,
   "metadata": {},
   "outputs": [
    {
     "name": "stdout",
     "output_type": "stream",
     "text": [
      "content='AI: 🌿🌌👽'\n"
     ]
    },
    {
     "data": {
      "text/plain": [
       "AIMessage(content='AI: 🌿🌌👽')"
      ]
     },
     "execution_count": 111,
     "metadata": {},
     "output_type": "execute_result"
    }
   ],
   "source": [
    "from langchain.chat_models import ChatOpenAI\n",
    "from langchain.prompts import example_selector\n",
    "from langchain.prompts.few_shot import FewShotPromptTemplate\n",
    "from langchain.callbacks import StreamingStdOutCallbackHandler\n",
    "from langchain.prompts.prompt import PromptTemplate\n",
    "from langchain.prompts.example_selector.base import BaseExampleSelector\n",
    "from langchain.memory import ConversationSummaryBufferMemory\n",
    "from langchain.schema.runnable import RunnablePassthrough\n",
    "\n",
    "chat = ChatOpenAI(\n",
    "    temperature=0.1,\n",
    "    # streaming=True,\n",
    "    # callbacks=[\n",
    "    #     StreamingStdOutCallbackHandler(),\n",
    "    # ],\n",
    ")\n",
    "\n",
    "examples = [\n",
    "    {\n",
    "        \"question\": \"Express the movie 'Top Gun' with three emojis that come to your mind\",\n",
    "        \"answer\": \"🛩️👨‍✈️🔥\",\n",
    "    },\n",
    "    {\n",
    "        \"question\":  \"Express the movie 'The Godfather' with three emojis that come to your mind\",\n",
    "        \"answer\": \"👨‍👨‍👦🔫🍝\",\n",
    "    },\n",
    "]\n",
    "\n",
    "\n",
    "class RandomExampleSelector(BaseExampleSelector):\n",
    "    def __init__(self, examples):\n",
    "        self.examples = examples\n",
    "\n",
    "    def add_example(self, example):\n",
    "        self.examples.append(example)\n",
    "\n",
    "    def select_examples(self, input_variables):\n",
    "        from random import choice\n",
    "\n",
    "        return [choice(self.examples)]\n",
    "    \n",
    "example_prompt = PromptTemplate.from_template(\"Human: {question}\\nAI:{answer}\")\n",
    "\n",
    "example_selector = RandomExampleSelector(\n",
    "    examples=examples,\n",
    ")\n",
    "\n",
    "prompt = FewShotPromptTemplate(\n",
    "    example_prompt=example_prompt,\n",
    "    example_selector=example_selector,\n",
    "    suffix=\"\"\"\n",
    "    Previous conversation:\n",
    "    {history}\n",
    "    Human: Express the movie '{movie}' with three emojis that come to your mind\n",
    "    \"\"\",\n",
    "    input_variables=[\"movie\"],\n",
    ")\n",
    "\n",
    "\n",
    "# 기존 코드는 유지하고 memory 부분을 추가합니다\n",
    "memory = ConversationSummaryBufferMemory(\n",
    "    llm=chat,\n",
    "    max_token_limit=120,\n",
    "    return_messages=True\n",
    ")\n",
    "\n",
    "def load_memory(_):\n",
    "    return memory.load_memory_variables({})[\"history\"]\n",
    "\n",
    "# chain 정의를 수정합니다\n",
    "chain = (\n",
    "    RunnablePassthrough.assign(\n",
    "        history=load_memory\n",
    "    ) \n",
    "    | prompt \n",
    "    | chat\n",
    ")\n",
    "\n",
    "\n",
    "\n",
    "# invoke_chain 함수 추가\n",
    "def invoke_chain(movie_title):\n",
    "    result = chain.invoke({\"movie\": movie_title})\n",
    "    \n",
    "    # 대화 내용을 memory에 저장\n",
    "    memory.save_context(\n",
    "        {\"input\": f\"Tell me about {movie_title}\"},\n",
    "        {\"output\": result.content}\n",
    "    )\n",
    "    \n",
    "    print(result)\n",
    "    return result\n",
    "\n",
    "# 사용 예시\n",
    "invoke_chain(\"Avatar\")"
   ]
  },
  {
   "cell_type": "code",
   "execution_count": 112,
   "metadata": {},
   "outputs": [
    {
     "data": {
      "text/plain": [
       "AIMessage(content='AI: 이전에 질문한 영화는 \"Avatar\"입니다.')"
      ]
     },
     "execution_count": 112,
     "metadata": {},
     "output_type": "execute_result"
    }
   ],
   "source": [
    "free_prompt = PromptTemplate.from_template(\"\"\"\n",
    "    Previous conversation:\n",
    "    {history}\n",
    "    Human: {question}\n",
    "\"\"\")\n",
    "\n",
    "free_chain = RunnablePassthrough.assign(history=load_memory) | free_prompt | chat\n",
    "free_chain.invoke({\"question\": \"이전에 질문한 영화가 무엇이지?\"})"
   ]
  }
 ],
 "metadata": {
  "kernelspec": {
   "display_name": "env",
   "language": "python",
   "name": "python3"
  },
  "language_info": {
   "codemirror_mode": {
    "name": "ipython",
    "version": 3
   },
   "file_extension": ".py",
   "mimetype": "text/x-python",
   "name": "python",
   "nbconvert_exporter": "python",
   "pygments_lexer": "ipython3",
   "version": "3.11.11"
  }
 },
 "nbformat": 4,
 "nbformat_minor": 2
}
