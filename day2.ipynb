{
 "cells": [
  {
   "cell_type": "code",
   "execution_count": 1,
   "metadata": {},
   "outputs": [],
   "source": [
    "from langchain.chat_models import ChatOpenAI\n",
    "from langchain.prompts import example_selector\n",
    "from langchain.prompts.few_shot import FewShotPromptTemplate\n",
    "from langchain.callbacks import StreamingStdOutCallbackHandler\n",
    "from langchain.prompts.prompt import PromptTemplate\n",
    "from langchain.prompts.example_selector.base import BaseExampleSelector\n",
    "\n",
    "chat = ChatOpenAI(\n",
    "    temperature=0.1,\n",
    "    streaming=True,\n",
    "    callbacks=[\n",
    "        StreamingStdOutCallbackHandler(),\n",
    "    ],\n",
    ")\n",
    "\n",
    "examples = [\n",
    "    {\n",
    "        \"question\": \"What do you know about Avatar?\",\n",
    "        \"answer\": \"\"\"\n",
    "        Here is what I know:\n",
    "        Director: James Cameron\n",
    "        Main Cast: Sam Worthington, Zoe Saldana, Sigourney Weaver, Stephen Lang\n",
    "        Box Office Revenue: $2.92 billion\n",
    "        Genre: Science Fiction, Adventure, Action\n",
    "        Synopsis: Set in the mid-22nd century, Avatar follows Jake Sully, a paraplegic former Marine who becomes involved with the indigenous Na'vi people on the distant planet Pandora. Tasked with infiltrating the Na'vi to aid human mining efforts, Jake soon finds himself torn between following orders and protecting the planet and its inhabitants.\n",
    "        \"\"\",\n",
    "    },\n",
    "    {\n",
    "        \"question\": \"What do you know about Titanic?\",\n",
    "        \"answer\": \"\"\"\n",
    "        I know this:\n",
    "        Director: James Cameron\n",
    "        Main Cast: Leonardo DiCaprio, Kate Winslet, Billy Zane, Kathy Bates\n",
    "        Box Office Revenue: $2.25 billion\n",
    "        Genre: Romance, Drama, Historical\n",
    "        Synopsis: Set against the backdrop of the ill-fated maiden voyage of the RMS Titanic, the film tells the story of Jack and Rose, two people from different social classes who fall in love. As the ship meets its tragic end, their love story becomes a tale of passion and sacrifice.\n",
    "        \"\"\",\n",
    "    },\n",
    "    {\n",
    "        \"question\": \"What do you know about The Dark Knight?\",\n",
    "        \"answer\": \"\"\"\n",
    "        I know this:\n",
    "        Director: Christopher Nolan\n",
    "        Main Cast: Christian Bale, Heath Ledger, Aaron Eckhart, Michael Caine, Gary Oldman\n",
    "        Box Office Revenue: $1.006 billion\n",
    "        Genre: Action, Crime, Drama\n",
    "        Synopsis: In The Dark Knight, Batman faces his greatest challenge yet as he battles the anarchist mastermind known as the Joker. As chaos engulfs Gotham City, the film explores themes of heroism, moral ambiguity, and the limits of justice, with Heath Ledger's iconic performance as the Joker earning critical acclaim.\n",
    "        \"\"\",\n",
    "    },\n",
    "]"
   ]
  },
  {
   "cell_type": "code",
   "execution_count": 2,
   "metadata": {},
   "outputs": [],
   "source": [
    "class RandomExampleSelector(BaseExampleSelector):\n",
    "    def __init__(self, examples):\n",
    "        self.examples = examples\n",
    "\n",
    "    def add_example(self, example):\n",
    "        self.examples.append(example)\n",
    "\n",
    "    def select_examples(self, input_variables):\n",
    "        from random import choice\n",
    "\n",
    "        return [choice(self.examples)]"
   ]
  },
  {
   "cell_type": "code",
   "execution_count": 3,
   "metadata": {},
   "outputs": [
    {
     "data": {
      "text/plain": [
       "'Human: What do you know about Italy?\\nAI:\\n        I know this:\\n        Capital: Rome\\n        Language: Italian\\n        Food: Pizza and Pasta\\n        Currency: Euro\\n        \\n\\nHuman: What do you know about Brazil?'"
      ]
     },
     "execution_count": 3,
     "metadata": {},
     "output_type": "execute_result"
    }
   ],
   "source": [
    "example_prompt = PromptTemplate.from_template(\"Human: {question}\\nAI:{answer}\")\n",
    "\n",
    "example_selector = RandomExampleSelector(\n",
    "    examples=examples,\n",
    ")\n",
    "\n",
    "prompt = FewShotPromptTemplate(\n",
    "    example_prompt=example_prompt,\n",
    "    example_selector=example_selector,\n",
    "    suffix=\"Human: What do you know about {country}?\",\n",
    "    input_variables=[\"country\"],\n",
    ")\n",
    "\n",
    "prompt.format(country=\"Brazil\")"
   ]
  }
 ],
 "metadata": {
  "kernelspec": {
   "display_name": "env",
   "language": "python",
   "name": "python3"
  },
  "language_info": {
   "codemirror_mode": {
    "name": "ipython",
    "version": 3
   },
   "file_extension": ".py",
   "mimetype": "text/x-python",
   "name": "python",
   "nbconvert_exporter": "python",
   "pygments_lexer": "ipython3",
   "version": "3.11.11"
  }
 },
 "nbformat": 4,
 "nbformat_minor": 2
}
